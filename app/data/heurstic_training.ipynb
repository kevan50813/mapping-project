{
 "cells": [
  {
   "cell_type": "code",
   "execution_count": 1,
   "metadata": {},
   "outputs": [],
   "source": [
    "import sqlite3\n",
    "import json"
   ]
  },
  {
   "cell_type": "code",
   "execution_count": 6,
   "metadata": {
    "id": "90BrOG9Oek9X"
   },
   "outputs": [
    {
     "name": "stdout",
     "output_type": "stream",
     "text": [
      "Obtained 49 rows from database.\n"
     ]
    }
   ],
   "source": [
    "# load in the sqlite file into memory\n",
    "\n",
    "db_file= \"scan_data.sqlite\"\n",
    "\n",
    "con = sqlite3.connect(db_file)\n",
    "con.row_factory = sqlite3.Row\n",
    "cur = con.cursor()\n",
    "\n",
    "db_rows = con.execute(\n",
    "    \"SELECT ScanData.pkuid, ScanData.data, ScanData.level, \\\n",
    "    idx_ScanData_geometry.xmin, idx_ScanData_geometry.xmax, idx_ScanData_geometry.ymin, idx_ScanData_geometry.ymax \\\n",
    "    FROM ScanData \\\n",
    "    INNER JOIN idx_ScanData_geometry \\\n",
    "    ON ScanData.pkuid=idx_ScanData_geometry.pkid\"\n",
    ")\n",
    "db_dict = [dict(row) for row in db_rows]\n",
    "\n",
    "print(f\"Obtained {len(db_dict)} rows from database.\")\n",
    "\n",
    "con.close()"
   ]
  },
  {
   "cell_type": "code",
   "execution_count": 39,
   "metadata": {},
   "outputs": [
    {
     "name": "stdout",
     "output_type": "stream",
     "text": [
      "Dict created, with 6 keys with the following value lengths: [10, 10, 10, 10, 6, 3]\n"
     ]
    }
   ],
   "source": [
    "# turn sqlite file into dictionary of the following form\n",
    "\n",
    "'''\n",
    "    {\n",
    "        geometry_tuple (): {\n",
    "            level: int,\n",
    "            scan_data: [],\n",
    "        }\n",
    "    }\n",
    "'''\n",
    "\n",
    "ap_dict = {}\n",
    "\n",
    "for row in db_dict:\n",
    "    x = (row['xmin'] + row['xmax']) / 2\n",
    "    y = (row['ymin'] + row['ymax']) / 2\n",
    "    \n",
    "    level = row['level']\n",
    "    \n",
    "    if not level in ap_dict:\n",
    "        ap_dict[level] = {}\n",
    "    \n",
    "    ap_dict[level][(x, y)] = row['data']\n",
    "    \n",
    "ap_dict = dict(sorted(ap_dict.items()))\n",
    "print(f\"Dict created, with {len(ap_dict)} keys with the following value lengths: \\\n",
    "{[len(val) for val in ap_dict.values()]}\")\n",
    "\n",
    "\n",
    "#for level, level_data in ap_dict.items():\n",
    "#    print(f\"Level {level}\")\n",
    "#    for geometry, scan in level_data.items():\n",
    "#        print(f\"({geometry}) := '<scan data omitted for readability>\")"
   ]
  },
  {
   "cell_type": "code",
   "execution_count": null,
   "metadata": {},
   "outputs": [],
   "source": []
  },
  {
   "cell_type": "code",
   "execution_count": null,
   "metadata": {},
   "outputs": [],
   "source": []
  },
  {
   "cell_type": "code",
   "execution_count": null,
   "metadata": {},
   "outputs": [],
   "source": []
  },
  {
   "cell_type": "code",
   "execution_count": null,
   "metadata": {},
   "outputs": [],
   "source": []
  },
  {
   "cell_type": "code",
   "execution_count": null,
   "metadata": {},
   "outputs": [],
   "source": []
  },
  {
   "cell_type": "code",
   "execution_count": null,
   "metadata": {},
   "outputs": [],
   "source": []
  }
 ],
 "metadata": {
  "colab": {
   "collapsed_sections": [],
   "name": "Huristic_Training.ipynb",
   "provenance": []
  },
  "kernelspec": {
   "display_name": "Python 3",
   "language": "python",
   "name": "python3"
  },
  "language_info": {
   "codemirror_mode": {
    "name": "ipython",
    "version": 3
   },
   "file_extension": ".py",
   "mimetype": "text/x-python",
   "name": "python",
   "nbconvert_exporter": "python",
   "pygments_lexer": "ipython3",
   "version": "3.6.9"
  }
 },
 "nbformat": 4,
 "nbformat_minor": 1
}
