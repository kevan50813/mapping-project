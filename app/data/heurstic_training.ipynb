{
 "cells": [
  {
   "cell_type": "code",
   "execution_count": 60,
   "metadata": {},
   "outputs": [],
   "source": [
    "import sqlite3\n",
    "import json"
   ]
  },
  {
   "cell_type": "code",
   "execution_count": 61,
   "metadata": {
    "id": "90BrOG9Oek9X"
   },
   "outputs": [
    {
     "name": "stdout",
     "output_type": "stream",
     "text": [
      "Obtained 3 rows from database.\n"
     ]
    }
   ],
   "source": [
    "# load in the sqlite file into memory\n",
    "\n",
    "db_file= \"ap_sample.sqlite\"\n",
    "\n",
    "con = sqlite3.connect(db_file)\n",
    "con.row_factory = sqlite3.Row\n",
    "cur = con.cursor()\n",
    "\n",
    "db_rows = con.execute(\n",
    "    \"SELECT ScanData.pkuid, ScanData.scan_data, ScanData.level, \\\n",
    "    idx_ScanData_geometry.xmin, idx_ScanData_geometry.xmax, idx_ScanData_geometry.ymin, idx_ScanData_geometry.ymax \\\n",
    "    FROM ScanData \\\n",
    "    INNER JOIN idx_ScanData_geometry \\\n",
    "    ON ScanData.pkuid=idx_ScanData_geometry.pkid\"\n",
    ")\n",
    "db_dict = [dict(row) for row in db_rows]\n",
    "\n",
    "print(f\"Obtained {len(db_dict)} rows from database.\")\n",
    "\n",
    "con.close()\n"
   ]
  },
  {
   "cell_type": "code",
   "execution_count": 62,
   "metadata": {},
   "outputs": [
    {
     "name": "stdout",
     "output_type": "stream",
     "text": [
      "(-1.5540393590927124, 53.80891418457031) {'level': None, 'data': [{}]}\n",
      "(-1.554064154624939, 53.80900192260742) {'level': None, 'data': [[{}], [{}]]}\n",
      "(-1.5540177822113037, 53.80899429321289) {'level': 3, 'data': [[{'SSID': 'TALKTALKA9C6E6', 'BSSID': '80:20:da:a9:c6:e3', 'RSSI': -44}, {'SSID': 'TALKTALKA9C6E6', 'BSSID': '80:20:da:a9:c6:e4', 'RSSI': -46}, {'SSID': 'BT-3XA567', 'BSSID': '0c:8e:29:7e:67:9c', 'RSSI': -66}, {'SSID': 'BT-3XA567', 'BSSID': '0c:8e:29:7e:67:9b', 'RSSI': -73}, {'SSID': 'SKYSUHGE', 'BSSID': '04:81:9b:a9:26:4a', 'RSSI': -79}, {'SSID': 'SKYP27EU', 'BSSID': '80:75:1f:14:55:7a', 'RSSI': -80}, {'SSID': 'SKYSUHGE', 'BSSID': '0c:f9:c0:97:5a:0e', 'RSSI': -85}, {'SSID': 'GW_E048AF022C21', 'BSSID': 'e0:48:af:02:2c:21', 'RSSI': -87}], [{'SSID': 'TALKTALKA9C6E6', 'BSSID': '80:20:da:a9:c6:e3', 'RSSI': -42}, {'SSID': 'TALKTALKA9C6E6', 'BSSID': '80:20:da:a9:c6:e4', 'RSSI': -44}, {'SSID': 'BT-3XA567', 'BSSID': '0c:8e:29:7e:67:9c', 'RSSI': -70}, {'SSID': 'SKYSUHGE', 'BSSID': '04:81:9b:a9:26:4a', 'RSSI': -75}, {'SSID': 'BT-3XA567', 'BSSID': '0c:8e:29:7e:67:9b', 'RSSI': -76}, {'SSID': 'TALKTALK4459A1', 'BSSID': 'f0:3f:95:44:59:b0', 'RSSI': -83}, {'SSID': 'SKYP27EU', 'BSSID': '80:75:1f:14:55:7d', 'RSSI': -86}], [{'SSID': 'TALKTALKA9C6E6', 'BSSID': '80:20:da:a9:c6:e4', 'RSSI': -45}, {'SSID': 'TALKTALKA9C6E6', 'BSSID': '80:20:da:a9:c6:e3', 'RSSI': -46}, {'SSID': 'BT-3XA567', 'BSSID': '0c:8e:29:7e:67:9c', 'RSSI': -66}, {'SSID': 'SKYP27EU', 'BSSID': '80:75:1f:14:55:7a', 'RSSI': -75}, {'SSID': 'BT-3XA567', 'BSSID': '0c:8e:29:7e:67:9b', 'RSSI': -78}, {'SSID': 'SKYSUHGE', 'BSSID': '04:81:9b:a9:26:4d', 'RSSI': -83}, {'SSID': 'SKYSUHGE', 'BSSID': '04:81:9b:a9:26:4a', 'RSSI': -84}, {'SSID': 'SKYE1FD0', 'BSSID': 'a0:bd:cd:6a:b9:aa', 'RSSI': -84}, {'SSID': 'SKYP27EU', 'BSSID': '80:75:1f:14:55:7d', 'RSSI': -86}]]}\n"
     ]
    }
   ],
   "source": [
    "# turn sqlite file into dictionary of the following form\n",
    "\n",
    "'''\n",
    "    {\n",
    "        geometry_tuple (): {\n",
    "            level: int,\n",
    "            scan_data: [],\n",
    "        }\n",
    "    }\n",
    "'''\n",
    "\n",
    "ap_dict = {}\n",
    "\n",
    "for row in db_dict:\n",
    "    x = (row['xmin'] + row['xmax']) / 2\n",
    "    y = (row['ymin'] + row['ymax']) / 2\n",
    "    \n",
    "    ap_dict[(x, y)] = {\n",
    "        'level': row['level'],\n",
    "        'data': json.loads(row['scan_data'])\n",
    "    }\n",
    "    \n",
    "for key in ap_dict:\n",
    "    print(key, ap_dict[key])"
   ]
  },
  {
   "cell_type": "code",
   "execution_count": null,
   "metadata": {},
   "outputs": [],
   "source": []
  },
  {
   "cell_type": "code",
   "execution_count": null,
   "metadata": {},
   "outputs": [],
   "source": []
  },
  {
   "cell_type": "code",
   "execution_count": null,
   "metadata": {},
   "outputs": [],
   "source": []
  },
  {
   "cell_type": "code",
   "execution_count": null,
   "metadata": {},
   "outputs": [],
   "source": []
  },
  {
   "cell_type": "code",
   "execution_count": null,
   "metadata": {},
   "outputs": [],
   "source": []
  },
  {
   "cell_type": "code",
   "execution_count": null,
   "metadata": {},
   "outputs": [],
   "source": []
  }
 ],
 "metadata": {
  "colab": {
   "collapsed_sections": [],
   "name": "Huristic_Training.ipynb",
   "provenance": []
  },
  "kernelspec": {
   "display_name": "Python 3",
   "language": "python",
   "name": "python3"
  },
  "language_info": {
   "codemirror_mode": {
    "name": "ipython",
    "version": 3
   },
   "file_extension": ".py",
   "mimetype": "text/x-python",
   "name": "python",
   "nbconvert_exporter": "python",
   "pygments_lexer": "ipython3",
   "version": "3.6.9"
  }
 },
 "nbformat": 4,
 "nbformat_minor": 1
}
